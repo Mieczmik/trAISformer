{
 "cells": [
  {
   "cell_type": "code",
   "execution_count": 47,
   "id": "3f3f089d",
   "metadata": {},
   "outputs": [
    {
     "data": {
      "text/plain": [
       "tensor([[-0.2413, -1.7413, -3.2413],\n",
       "        [-1.3679, -1.2679, -0.7679],\n",
       "        [-0.4421, -1.9421, -1.5421],\n",
       "        [-1.6803, -0.6803, -1.1803]], grad_fn=<LogSoftmaxBackward0>)"
      ]
     },
     "execution_count": 47,
     "metadata": {},
     "output_type": "execute_result"
    }
   ],
   "source": [
    "import torch\n",
    "import torch.nn as nn\n",
    "import torch.optim as optim\n",
    "\n",
    "# 1. Dane przykładowe\n",
    "# Załóżmy, że mamy 3 klasy i batch size = 4\n",
    "logits = torch.tensor([[2.0, 0.5, -1.0],\n",
    "                       [0.1, 0.2, 0.7],\n",
    "                       [1.2, -0.3, 0.1],\n",
    "                       [0.0, 1.0, 0.5]], requires_grad=True)\n",
    "# Etykiety (ground-truth)\n",
    "targets = torch.tensor([0, 2, 1, 1], dtype=torch.long)\n",
    "\n",
    "# 2. Definiujemy warstwę LogSoftmax + NLLLoss\n",
    "log_softmax = nn.LogSoftmax(dim=1)   # zamiana logits → log-probs\n",
    "criterion = nn.NLLLoss(reduction='mean')\n",
    "\n",
    "# 3. Forward pass\n",
    "log_probs = log_softmax(logits)      # kształt: (4, 3)\n",
    "log_probs"
   ]
  },
  {
   "cell_type": "code",
   "execution_count": 48,
   "id": "69c9ab5c",
   "metadata": {},
   "outputs": [
    {
     "data": {
      "text/plain": [
       "tensor([0, 2, 0, 1])"
      ]
     },
     "execution_count": 48,
     "metadata": {},
     "output_type": "execute_result"
    }
   ],
   "source": [
    "preds = torch.argmax(log_probs, dim=1)\n",
    "preds"
   ]
  },
  {
   "cell_type": "code",
   "execution_count": 49,
   "id": "e4320e1c",
   "metadata": {},
   "outputs": [
    {
     "data": {
      "text/plain": [
       "4"
      ]
     },
     "execution_count": 49,
     "metadata": {},
     "output_type": "execute_result"
    }
   ],
   "source": [
    "N = log_probs.size(0)\n",
    "N"
   ]
  },
  {
   "cell_type": "code",
   "execution_count": 50,
   "id": "6d4a87cd",
   "metadata": {},
   "outputs": [
    {
     "data": {
      "text/plain": [
       "tensor([0, 1, 2, 3])"
      ]
     },
     "execution_count": 50,
     "metadata": {},
     "output_type": "execute_result"
    }
   ],
   "source": [
    "torch.arange(N)"
   ]
  },
  {
   "cell_type": "code",
   "execution_count": 51,
   "id": "4ce492e5",
   "metadata": {},
   "outputs": [
    {
     "data": {
      "text/plain": [
       "tensor([-0.2413, -0.7679, -1.9421, -0.6803], grad_fn=<IndexBackward0>)"
      ]
     },
     "execution_count": 51,
     "metadata": {},
     "output_type": "execute_result"
    }
   ],
   "source": [
    "log_probs[torch.arange(N), targets]"
   ]
  },
  {
   "cell_type": "code",
   "execution_count": 52,
   "id": "b1db2b59",
   "metadata": {},
   "outputs": [
    {
     "data": {
      "text/plain": [
       "tensor([-0.2413, -0.7679, -1.9421, -0.6803], grad_fn=<IndexBackward0>)"
      ]
     },
     "execution_count": 52,
     "metadata": {},
     "output_type": "execute_result"
    }
   ],
   "source": [
    "selected_log_probs = log_probs[torch.arange(N), targets]\n",
    "selected_log_probs"
   ]
  },
  {
   "cell_type": "code",
   "execution_count": 53,
   "id": "d6296a19",
   "metadata": {},
   "outputs": [
    {
     "data": {
      "text/plain": [
       "tensor([0.2413, 0.7679, 1.9421, 0.6803], grad_fn=<NegBackward0>)"
      ]
     },
     "execution_count": 53,
     "metadata": {},
     "output_type": "execute_result"
    }
   ],
   "source": [
    "neg_log_likelihood = -selected_log_probs\n",
    "neg_log_likelihood"
   ]
  },
  {
   "cell_type": "code",
   "execution_count": 54,
   "id": "85b32017",
   "metadata": {},
   "outputs": [
    {
     "data": {
      "text/plain": [
       "tensor(0.9079, grad_fn=<MeanBackward0>)"
      ]
     },
     "execution_count": 54,
     "metadata": {},
     "output_type": "execute_result"
    }
   ],
   "source": [
    "neg_log_likelihood.mean()"
   ]
  },
  {
   "cell_type": "code",
   "execution_count": 55,
   "id": "05fbadef",
   "metadata": {},
   "outputs": [
    {
     "name": "stdout",
     "output_type": "stream",
     "text": [
      "Log-prawdopodobieństwa:\n",
      "tensor([[-0.2413, -1.7413, -3.2413],\n",
      "        [-1.3679, -1.2679, -0.7679],\n",
      "        [-0.4421, -1.9421, -1.5421],\n",
      "        [-1.6803, -0.6803, -1.1803]])\n",
      "\n",
      "Wartość straty: 0.9079\n"
     ]
    }
   ],
   "source": [
    "\n",
    "loss = criterion(log_probs, targets)\n",
    "\n",
    "print(f\"Log-prawdopodobieństwa:\\n{log_probs.detach()}\\n\")\n",
    "print(f\"Wartość straty: {loss.item():.4f}\")\n",
    "\n",
    "# 4. Backward i update (przykład uproszczony)\n",
    "loss.backward()\n",
    "with torch.no_grad():\n",
    "    # przykładowa prosta aktualizacja gradientowa\n",
    "    for param in [logits]:\n",
    "        param -= 0.1 * param.grad"
   ]
  },
  {
   "cell_type": "code",
   "execution_count": null,
   "id": "b8189ece",
   "metadata": {},
   "outputs": [],
   "source": []
  }
 ],
 "metadata": {
  "kernelspec": {
   "display_name": ".venv",
   "language": "python",
   "name": "python3"
  },
  "language_info": {
   "codemirror_mode": {
    "name": "ipython",
    "version": 3
   },
   "file_extension": ".py",
   "mimetype": "text/x-python",
   "name": "python",
   "nbconvert_exporter": "python",
   "pygments_lexer": "ipython3",
   "version": "3.10.12"
  }
 },
 "nbformat": 4,
 "nbformat_minor": 5
}
